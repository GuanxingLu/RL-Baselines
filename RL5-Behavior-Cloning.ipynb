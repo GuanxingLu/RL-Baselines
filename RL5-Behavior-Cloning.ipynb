{
 "cells": [
  {
   "cell_type": "code",
   "execution_count": 1,
   "id": "91851ae5",
   "metadata": {},
   "outputs": [],
   "source": [
    "import warnings\n",
    "warnings.filterwarnings(\"ignore\")"
   ]
  },
  {
   "cell_type": "code",
   "execution_count": 2,
   "id": "7b86c65a",
   "metadata": {},
   "outputs": [],
   "source": [
    "import numpy as np \n",
    "import gym\n",
    "import torch\n",
    "import torch.nn as nn\n",
    "import torch.nn.functional as F\n",
    "from matplotlib import pyplot as plt\n",
    "import pickle \n",
    "import imageio"
   ]
  },
  {
   "cell_type": "markdown",
   "id": "18064b43",
   "metadata": {},
   "source": [
    "### Prepare data"
   ]
  },
  {
   "cell_type": "code",
   "execution_count": 3,
   "id": "216e6cec",
   "metadata": {},
   "outputs": [
    {
     "name": "stdout",
     "output_type": "stream",
     "text": [
      "Number of trajectories: 1\n"
     ]
    }
   ],
   "source": [
    "data_path = \"expert_data/human_demos_1_89.0.pkl\"\n",
    "\n",
    "with open(data_path, 'rb') as f:\n",
    "    trajs = pickle.load(f)\n",
    "\n",
    "print(f\"Number of trajectories: {len(trajs)}\") "
   ]
  },
  {
   "cell_type": "code",
   "execution_count": 4,
   "id": "886d7adb",
   "metadata": {},
   "outputs": [
    {
     "data": {
      "text/plain": [
       "((88, 4), (88,))"
      ]
     },
     "execution_count": 4,
     "metadata": {},
     "output_type": "execute_result"
    }
   ],
   "source": [
    "states=[]\n",
    "actions=[]\n",
    "for traj in trajs:\n",
    "    for state,action in traj:\n",
    "        states.append(state)\n",
    "        actions.append(action)\n",
    "\n",
    "states=np.array(states)\n",
    "actions=np.array(actions)\n",
    "\n",
    "states.shape, actions.shape"
   ]
  },
  {
   "cell_type": "code",
   "execution_count": 5,
   "id": "deec36d0",
   "metadata": {},
   "outputs": [
    {
     "data": {
      "text/plain": [
       "2"
      ]
     },
     "execution_count": 5,
     "metadata": {},
     "output_type": "execute_result"
    }
   ],
   "source": [
    "num_classes = np.max(actions)+1 \n",
    "num_classes"
   ]
  },
  {
   "cell_type": "code",
   "execution_count": 6,
   "id": "c4198d75",
   "metadata": {},
   "outputs": [
    {
     "data": {
      "text/plain": [
       "(torch.Size([1, 4]), torch.Size([1]))"
      ]
     },
     "execution_count": 6,
     "metadata": {},
     "output_type": "execute_result"
    }
   ],
   "source": [
    "data_loader = torch.utils.data.DataLoader( list(zip(states, actions)), batch_size=1, shuffle=True)\n",
    "\n",
    "batch=next(iter(data_loader))\n",
    "states,actions = batch\n",
    "states.shape,actions.shape"
   ]
  },
  {
   "cell_type": "markdown",
   "id": "da1b52cf",
   "metadata": {},
   "source": [
    "### Training"
   ]
  },
  {
   "cell_type": "code",
   "execution_count": 7,
   "id": "70d56fe9",
   "metadata": {},
   "outputs": [],
   "source": [
    "class BcNet(nn.Module):\n",
    "    def __init__(self, state_dim, hidden_dim, action_dim):\n",
    "        super(BcNet, self).__init__()\n",
    "        self.fc1 = torch.nn.Linear(state_dim, hidden_dim)\n",
    "        self.fc2 = torch.nn.Linear(hidden_dim, action_dim)\n",
    "\n",
    "    def forward(self, x):\n",
    "        x = F.relu(self.fc1(x))\n",
    "        return self.fc2(x)\n",
    "        # return F.softmax(self.fc2(x), dim=1)"
   ]
  },
  {
   "cell_type": "code",
   "execution_count": 8,
   "id": "412bc062",
   "metadata": {},
   "outputs": [],
   "source": [
    "state_dim = 4\n",
    "hidden_dim = 128\n",
    "action_dim = 2\n",
    "bc= BcNet(state_dim, hidden_dim, action_dim)\n",
    "criterion = nn.CrossEntropyLoss()\n",
    "learning_rate = 0.01\n",
    "optimizer = torch.optim.Adam(bc.parameters(), lr = learning_rate)"
   ]
  },
  {
   "cell_type": "code",
   "execution_count": 9,
   "id": "5710fc27",
   "metadata": {},
   "outputs": [
    {
     "name": "stdout",
     "output_type": "stream",
     "text": [
      "iteration: 0, loss: 1.1671217679977417\n"
     ]
    },
    {
     "name": "stdout",
     "output_type": "stream",
     "text": [
      "iteration: 10, loss: 0.0006293461774475873\n",
      "iteration: 20, loss: 0.266612708568573\n",
      "iteration: 30, loss: 0.002755656372755766\n",
      "iteration: 40, loss: 0.08311055600643158\n",
      "iteration: 50, loss: 9.572047565598041e-05\n",
      "iteration: 60, loss: 0.014042030088603497\n",
      "iteration: 70, loss: 0.00016020445036701858\n",
      "iteration: 80, loss: 2.3841855067985307e-07\n",
      "iteration: 90, loss: 0.086768239736557\n",
      "iteration: 100, loss: 0.5621494054794312\n",
      "iteration: 110, loss: 1.6093124941107817e-05\n",
      "iteration: 120, loss: 0.05166211351752281\n",
      "iteration: 130, loss: 4.768370445162873e-07\n",
      "iteration: 140, loss: 3.6954811548639555e-06\n",
      "iteration: 150, loss: 0.038124267011880875\n",
      "iteration: 160, loss: 0.06756845116615295\n",
      "iteration: 170, loss: 0.0\n",
      "iteration: 180, loss: 3.0874729418428615e-05\n",
      "iteration: 190, loss: 0.20924468338489532\n",
      "iteration: 200, loss: 0.01843801699578762\n",
      "iteration: 210, loss: 0.0\n",
      "iteration: 220, loss: 0.007638650014996529\n",
      "iteration: 230, loss: 2.539125671319198e-05\n",
      "iteration: 240, loss: 0.0\n",
      "iteration: 250, loss: 9.333651541965082e-05\n"
     ]
    }
   ],
   "source": [
    "loss_list = []  \n",
    "n_epoch = 250\n",
    " \n",
    "for itr in range(0, n_epoch+1):\n",
    "    for batch_states, batch_actions in data_loader:\n",
    "        y_pred = bc(batch_states)\n",
    "        loss = criterion(y_pred, batch_actions)\n",
    "        optimizer.zero_grad()\n",
    "        loss.backward()\n",
    "        optimizer.step()\n",
    "        loss_list.append(loss.item())\n",
    "        \n",
    "    if itr % 10 == 0:\n",
    "        print(f'iteration: {itr}, loss: {loss.item()}')"
   ]
  },
  {
   "cell_type": "code",
   "execution_count": 10,
   "id": "6d830843",
   "metadata": {},
   "outputs": [
    {
     "data": {
      "text/plain": [
       "[<matplotlib.lines.Line2D at 0x7c70c460f6a0>]"
      ]
     },
     "execution_count": 10,
     "metadata": {},
     "output_type": "execute_result"
    },
    {
     "data": {
      "image/png": "[encoded data removed]",
      "text/plain": [
       "<Figure size 640x480 with 1 Axes>"
      ]
     },
     "metadata": {},
     "output_type": "display_data"
    }
   ],
   "source": [
    "plt.plot(loss_list)"
   ]
  },
  {
   "cell_type": "code",
   "execution_count": 11,
   "id": "27401eb0",
   "metadata": {},
   "outputs": [
    {
     "name": "stdout",
     "output_type": "stream",
     "text": [
      "training accuracy:  tensor(1.)\n"
     ]
    }
   ],
   "source": [
    "bc.eval()\n",
    "train_x=torch.tensor(states).float()\n",
    "train_y=torch.tensor(actions).long()\n",
    "with torch.no_grad():\n",
    "    y_pred = bc(train_x)\n",
    "    correct = (torch.argmax(y_pred, dim=1) == train_y ).type(torch.FloatTensor)\n",
    "    print('training accuracy: ', correct.mean())"
   ]
  },
  {
   "cell_type": "markdown",
   "id": "6ec623aa",
   "metadata": {},
   "source": [
    "### Rollout"
   ]
  },
  {
   "cell_type": "code",
   "execution_count": 12,
   "id": "f2adf6d5",
   "metadata": {},
   "outputs": [],
   "source": [
    "env_name = 'CartPole-v0'"
   ]
  },
  {
   "cell_type": "code",
   "execution_count": 13,
   "id": "23fd31da",
   "metadata": {},
   "outputs": [],
   "source": [
    "def play_an_episode(env_name, model, video_path=None, max_steps=1000):\n",
    "    video_writer=None \n",
    "    if video_path is not None:\n",
    "        print(f'Saving video to {video_path}')\n",
    "        video_writer = imageio.get_writer(video_path, fps=20)\n",
    "        env=gym.make(env_name, render_mode='rgb_array')\n",
    "    else:\n",
    "        env=gym.make(env_name)\n",
    "\n",
    "    obs,_=env.reset()\n",
    "    rewards=0\n",
    "    step=0\n",
    "    for _ in range(max_steps):\n",
    "        step+=1\n",
    "        obs=torch.tensor(obs).float()\n",
    "        predict=model(obs)\n",
    "        action=torch.argmax(predict).item() \n",
    "        obs, reward, done, trunc,_ = env.step(action)\n",
    "\n",
    "        if video_path is not None:\n",
    "            image=env.render()\n",
    "            video_writer.append_data(image)\n",
    "\n",
    "        rewards+=reward\n",
    "        if done or trunc:\n",
    "            break\n",
    "\n",
    "    if video_path is not None:\n",
    "        video_writer.close()\n",
    "    return {'reward':rewards, 'step':step-1}"
   ]
  },
  {
   "cell_type": "code",
   "execution_count": 14,
   "id": "bdd8c3ae",
   "metadata": {},
   "outputs": [
    {
     "name": "stdout",
     "output_type": "stream",
     "text": [
      "episode #0 reward: 10.00\n",
      "episode #1 reward: 10.00\n",
      "episode #2 reward: 10.00\n",
      "episode #3 reward: 10.00\n",
      "episode #4 reward: 27.00\n",
      "episode #5 reward: 10.00\n",
      "episode #6 reward: 78.00\n",
      "episode #7 reward: 15.00\n",
      "episode #8 reward: 10.00\n",
      "episode #9 reward: 10.00\n",
      "episode #10 reward: 10.00\n",
      "episode #11 reward: 10.00\n",
      "episode #12 reward: 19.00\n",
      "episode #13 reward: 24.00\n",
      "episode #14 reward: 23.00\n",
      "episode #15 reward: 10.00\n",
      "episode #16 reward: 10.00\n",
      "episode #17 reward: 23.00\n",
      "episode #18 reward: 11.00\n",
      "episode #19 reward: 23.00\n",
      "\n",
      " score: 17.65 +- 15.09\n"
     ]
    }
   ],
   "source": [
    "scores=[]\n",
    "n_trajectory=20\n",
    "for i in range(n_trajectory):\n",
    "    stats=play_an_episode(env_name, bc)\n",
    "    rewards=stats['reward']\n",
    "    print(f'episode #{i} reward: {rewards:0.2f}')\n",
    "    scores.append(rewards)\n",
    "\n",
    "print(f'\\n score: {np.mean(scores):0.2f} +- {np.std(scores):0.2f}')"
   ]
  },
  {
   "cell_type": "markdown",
   "id": "22b03f8e",
   "metadata": {},
   "source": [
    "### Let's render and save a video using the learned policy."
   ]
  },
  {
   "cell_type": "code",
   "execution_count": 15,
   "id": "8c478c36",
   "metadata": {},
   "outputs": [
    {
     "name": "stdout",
     "output_type": "stream",
     "text": [
      "Saving video to bc_mc.mp4\n"
     ]
    },
    {
     "name": "stderr",
     "output_type": "stream",
     "text": [
      "IMAGEIO FFMPEG_WRITER WARNING: input image is not divisible by macro_block_size=16, resizing from (600, 400) to (608, 400) to ensure video compatibility with most codecs and players. To prevent resizing, make your input image divisible by the macro_block_size or set the macro_block_size to 1 (risking incompatibility).\n",
      "[swscaler @ 0x6f706c0] Warning: data is not aligned! This can lead to a speed loss\n"
     ]
    },
    {
     "data": {
      "text/plain": [
       "{'reward': 19.0, 'step': 18}"
      ]
     },
     "execution_count": 15,
     "metadata": {},
     "output_type": "execute_result"
    }
   ],
   "source": [
    "stats=play_an_episode(env_name, bc, video_path='bc_mc.mp4')\n",
    "stats "
   ]
  },
  {
   "cell_type": "code",
   "execution_count": 16,
   "id": "92c16e63",
   "metadata": {},
   "outputs": [
    {
     "data": {
      "text/html": [
       "<video src=\"bc_mc.mp4\" controls  >\n",
       "      Your browser does not support the <code>video</code> element.\n",
       "    </video>"
      ],
      "text/plain": [
       "<IPython.core.display.Video object>"
      ]
     },
     "execution_count": 16,
     "metadata": {},
     "output_type": "execute_result"
    }
   ],
   "source": [
    "from IPython.display import Video\n",
    "Video('bc_mc.mp4' )"
   ]
  }
 ],
 "metadata": {
  "kernelspec": {
   "display_name": "Python 3 (ipykernel)",
   "language": "python",
   "name": "python3"
  },
  "language_info": {
   "codemirror_mode": {
    "name": "ipython",
    "version": 3
   },
   "file_extension": ".py",
   "mimetype": "text/x-python",
   "name": "python",
   "nbconvert_exporter": "python",
   "pygments_lexer": "ipython3",
   "version": "3.9.19"
  }
 },
 "nbformat": 4,
 "nbformat_minor": 5
}
